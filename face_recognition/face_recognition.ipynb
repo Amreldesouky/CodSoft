{
 "cells": [
  {
   "cell_type": "markdown",
   "id": "24adc55c-a214-4768-8340-5ef7eaed19bc",
   "metadata": {},
   "source": [
    "# <span style=\"color: #FF6347; font-family: 'Arial', sans-serif;\">**Face recognition project**</span>\n"
   ]
  },
  {
   "cell_type": "code",
   "execution_count": 27,
   "id": "324ce314-bba7-49db-8e22-8def940c9747",
   "metadata": {},
   "outputs": [
    {
     "name": "stdout",
     "output_type": "stream",
     "text": [
      "Encoding Complete\n"
     ]
    }
   ],
   "source": [
    "import cv2\n",
    "import numpy as np\n",
    "import face_recognition\n",
    "import os\n",
    "from datetime import datetime\n",
    "\n",
    "path = 'pictures'\n",
    "images = []\n",
    "playersNames = []\n",
    "players_list = os.listdir(path)\n",
    "\n",
    "for plyer_class in players_list:\n",
    "    curImg = cv2.imread(os.path.join(path, plyer_class))\n",
    "    images.append(curImg)\n",
    "    plyer_name_without_extension = plyer_class.split('.')[0]\n",
    "    playersNames.append(plyer_name_without_extension)\n",
    "\n",
    "def findEncodings(images):\n",
    "    encodeList = []\n",
    "    for img in images:\n",
    "        encode = face_recognition.face_encodings(img)[0]\n",
    "        encodeList.append(encode)\n",
    "    return encodeList\n",
    "\n",
    "encodeListKnown = findEncodings(images)\n",
    "print('Encoding Complete')\n",
    "\n",
    "def markAttendance(name):\n",
    "    with open('attendance.csv', 'r+') as f:\n",
    "        # Read the current data from the file\n",
    "        myDataList = f.readlines()\n",
    "        # Get the names from the file\n",
    "        nameList = []\n",
    "        for line in myDataList:\n",
    "            entry = line.split(',')\n",
    "            nameList.append(entry[0])\n",
    "\n",
    "        # If the name is not already in the list, add it\n",
    "        if name not in nameList:\n",
    "            now = datetime.now()\n",
    "            dtString = now.strftime('%Y-%m-%d %H:%M:%S')\n",
    "            f.writelines(f'\\n{name},{dtString}')\n",
    "\n",
    "cap = cv2.VideoCapture(0)\n",
    "\n",
    "if not cap.isOpened():\n",
    "    print(\"Error: Could not open webcam.\")\n",
    "    exit()\n",
    "\n",
    "while True:\n",
    "    success, img = cap.read()\n",
    "    if not success:\n",
    "        print(\"Error: Failed to capture image from webcam.\")\n",
    "        break\n",
    "\n",
    "    imgS = cv2.resize(img, (0, 0), None, 0.25, 0.25)\n",
    "    facesCurFrame = face_recognition.face_locations(imgS)\n",
    "    encodesCurFrame = face_recognition.face_encodings(imgS, facesCurFrame)\n",
    "\n",
    "    for encodeFace, faceLoc in zip(encodesCurFrame, facesCurFrame):\n",
    "        matches = face_recognition.compare_faces(encodeListKnown, encodeFace)\n",
    "        faceDis = face_recognition.face_distance(encodeListKnown, encodeFace)\n",
    "        matchIndex = np.argmin(faceDis)\n",
    "\n",
    "        if faceDis[matchIndex] < 0.60:  # Check if the face distance is below threshold\n",
    "            name = playersNames[matchIndex]\n",
    "        else:\n",
    "            name = 'Unknown'\n",
    "\n",
    "        y1, x2, y2, x1 = faceLoc\n",
    "        y1, x2, y2, x1 = y1 * 4, x2 * 4, y2 * 4, x1 * 4\n",
    "        cv2.rectangle(img, (x1, y1), (x2, y2), (0, 255, 0), 2)\n",
    "        cv2.rectangle(img, (x1, y2 - 35), (x2, y2), (0, 255, 0), cv2.FILLED)\n",
    "        cv2.putText(img, name, (x1 + 6, y2 - 6), cv2.FONT_HERSHEY_COMPLEX, 1, (255, 255, 255), 2)\n",
    "\n",
    "        # Mark attendance\n",
    "        markAttendance(name)\n",
    "\n",
    "    cv2.imshow('Webcam', img)\n",
    "\n",
    "    # Wait for 'q' key to close webcam\n",
    "    if cv2.waitKey(1) & 0xFF == ord('q'):\n",
    "        break\n",
    "\n",
    "# Properly release the webcam and close the window\n",
    "cap.release()\n",
    "cv2.destroyAllWindows()\n"
   ]
  },
  {
   "cell_type": "code",
   "execution_count": null,
   "id": "c622a285-b88c-4f34-9331-befefebf1dfc",
   "metadata": {},
   "outputs": [],
   "source": []
  }
 ],
 "metadata": {
  "kernelspec": {
   "display_name": "Python 3 (ipykernel)",
   "language": "python",
   "name": "python3"
  },
  "language_info": {
   "codemirror_mode": {
    "name": "ipython",
    "version": 3
   },
   "file_extension": ".py",
   "mimetype": "text/x-python",
   "name": "python",
   "nbconvert_exporter": "python",
   "pygments_lexer": "ipython3",
   "version": "3.11.7"
  }
 },
 "nbformat": 4,
 "nbformat_minor": 5
}
